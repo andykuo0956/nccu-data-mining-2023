{
 "cells": [
  {
   "cell_type": "code",
   "execution_count": 20,
   "metadata": {},
   "outputs": [],
   "source": [
    "import matplotlib.pyplot as plt\n",
    "import numpy as np\n",
    "import pandas as pd\n",
    "from sklearn.feature_extraction.text import CountVectorizer\n",
    "from sklearn.naive_bayes import MultinomialNB\n",
    "from sklearn.metrics import accuracy_score\n",
    "from sklearn.feature_extraction.text import TfidfVectorizer\n",
    "from sklearn.metrics import accuracy_score, precision_score, recall_score, f1_score, confusion_matrix"
   ]
  },
  {
   "cell_type": "code",
   "execution_count": 21,
   "metadata": {},
   "outputs": [],
   "source": [
    "# read data\n",
    "train_data = pd.read_csv('data/simplified_dataset/simplified_train_data_tokenized.csv')\n",
    "test_data = pd.read_csv('data/simplified_dataset/simplified_test_data_tokenized.csv')\n",
    "\n",
    "train_data = train_data.dropna(subset=['tokenized_review'])\n",
    "test_data = test_data.dropna(subset=['tokenized_review'])"
   ]
  },
  {
   "cell_type": "markdown",
   "metadata": {},
   "source": [
    "## word frequency"
   ]
  },
  {
   "cell_type": "code",
   "execution_count": 22,
   "metadata": {},
   "outputs": [],
   "source": [
    "# string to vector\n",
    "vectorizer = CountVectorizer()\n",
    "X_train = vectorizer.fit_transform(train_data['tokenized_review'])\n",
    "X_test = vectorizer.transform(test_data['tokenized_review'])\n",
    "y_train = train_data['cat']\n",
    "y_test = test_data['cat']"
   ]
  },
  {
   "cell_type": "code",
   "execution_count": 26,
   "metadata": {},
   "outputs": [
    {
     "name": "stdout",
     "output_type": "stream",
     "text": [
      "Accuracy:  0.8680417297125109\n"
     ]
    }
   ],
   "source": [
    "classifier = MultinomialNB()\n",
    "\n",
    "# 訓練模型\n",
    "classifier.fit(X_train, y_train)\n",
    "\n",
    "# 預測\n",
    "y_pred = classifier.predict(X_test)\n",
    "\n",
    "# 評估\n",
    "accuracy = accuracy_score(y_test, y_pred)\n",
    "\n",
    "print(\"Accuracy: \", accuracy)"
   ]
  },
  {
   "cell_type": "markdown",
   "metadata": {},
   "source": [
    "## TF-IDF"
   ]
  },
  {
   "cell_type": "code",
   "execution_count": 28,
   "metadata": {},
   "outputs": [],
   "source": [
    "for max_df in range(0.1,0.9,0.1)\n",
    "tfidf_vectorizer = TfidfVectorizer(sublinear_tf=True, max_df=0.5)\n",
    "X_train_tfidf = tfidf_vectorizer.fit_transform(train_data['tokenized_review'])\n",
    "X_test_tfidf = tfidf_vectorizer.transform(test_data['tokenized_review'])"
   ]
  },
  {
   "cell_type": "code",
   "execution_count": 29,
   "metadata": {},
   "outputs": [
    {
     "name": "stdout",
     "output_type": "stream",
     "text": [
      "Accuracy:  0.8199410687266067\n"
     ]
    }
   ],
   "source": [
    "classifier = MultinomialNB()\n",
    "\n",
    "# 訓練模型\n",
    "classifier.fit(X_train_tfidf, y_train)\n",
    "\n",
    "# 預測\n",
    "y_pred = classifier.predict(X_test_tfidf)\n",
    "\n",
    "# 評估\n",
    "accuracy = accuracy_score(y_test, y_pred)\n",
    "\n",
    "print(\"Accuracy: \", accuracy)"
   ]
  },
  {
   "cell_type": "code",
   "execution_count": null,
   "metadata": {},
   "outputs": [],
   "source": [
    "def bayes_cla"
   ]
  }
 ],
 "metadata": {
  "kernelspec": {
   "display_name": "nccu-datamining",
   "language": "python",
   "name": "python3"
  },
  "language_info": {
   "codemirror_mode": {
    "name": "ipython",
    "version": 3
   },
   "file_extension": ".py",
   "mimetype": "text/x-python",
   "name": "python",
   "nbconvert_exporter": "python",
   "pygments_lexer": "ipython3",
   "version": "3.9.7"
  }
 },
 "nbformat": 4,
 "nbformat_minor": 2
}
