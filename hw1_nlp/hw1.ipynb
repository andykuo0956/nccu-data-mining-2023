{
 "cells": [
  {
   "cell_type": "code",
   "execution_count": 2,
   "metadata": {},
   "outputs": [
    {
     "ename": "ModuleNotFoundError",
     "evalue": "No module named 'jieba'",
     "output_type": "error",
     "traceback": [
      "\u001b[0;31m---------------------------------------------------------------------------\u001b[0m",
      "\u001b[0;31mModuleNotFoundError\u001b[0m                       Traceback (most recent call last)",
      "\u001b[1;32m/Users/guoyanting/Desktop/NCCU/2023_9/資料探勘/nccu-data-mining-2023/hw1_nlp/raw_data/hw1.ipynb 儲存格 1\u001b[0m line \u001b[0;36m2\n\u001b[1;32m      <a href='vscode-notebook-cell:/Users/guoyanting/Desktop/NCCU/2023_9/%E8%B3%87%E6%96%99%E6%8E%A2%E5%8B%98/nccu-data-mining-2023/hw1_nlp/raw_data/hw1.ipynb#W1sZmlsZQ%3D%3D?line=0'>1</a>\u001b[0m \u001b[39m# encoding=utf-8\u001b[39;00m\n\u001b[0;32m----> <a href='vscode-notebook-cell:/Users/guoyanting/Desktop/NCCU/2023_9/%E8%B3%87%E6%96%99%E6%8E%A2%E5%8B%98/nccu-data-mining-2023/hw1_nlp/raw_data/hw1.ipynb#W1sZmlsZQ%3D%3D?line=1'>2</a>\u001b[0m \u001b[39mimport\u001b[39;00m \u001b[39mjieba\u001b[39;00m\n\u001b[1;32m      <a href='vscode-notebook-cell:/Users/guoyanting/Desktop/NCCU/2023_9/%E8%B3%87%E6%96%99%E6%8E%A2%E5%8B%98/nccu-data-mining-2023/hw1_nlp/raw_data/hw1.ipynb#W1sZmlsZQ%3D%3D?line=3'>4</a>\u001b[0m jieba\u001b[39m.\u001b[39menable_paddle()\u001b[39m# 启动paddle模式。 0.40版之后开始支持，早期版本不支持\u001b[39;00m\n\u001b[1;32m      <a href='vscode-notebook-cell:/Users/guoyanting/Desktop/NCCU/2023_9/%E8%B3%87%E6%96%99%E6%8E%A2%E5%8B%98/nccu-data-mining-2023/hw1_nlp/raw_data/hw1.ipynb#W1sZmlsZQ%3D%3D?line=4'>5</a>\u001b[0m strs\u001b[39m=\u001b[39m[\u001b[39m\"\u001b[39m\u001b[39m我来到北京清华大学\u001b[39m\u001b[39m\"\u001b[39m,\u001b[39m\"\u001b[39m\u001b[39m乒乓球拍卖完了\u001b[39m\u001b[39m\"\u001b[39m,\u001b[39m\"\u001b[39m\u001b[39m中国科学技术大学\u001b[39m\u001b[39m\"\u001b[39m]\n",
      "\u001b[0;31mModuleNotFoundError\u001b[0m: No module named 'jieba'"
     ]
    }
   ],
   "source": []
  }
 ],
 "metadata": {
  "kernelspec": {
   "display_name": "nccu-datamining",
   "language": "python",
   "name": "python3"
  },
  "language_info": {
   "codemirror_mode": {
    "name": "ipython",
    "version": 3
   },
   "file_extension": ".py",
   "mimetype": "text/x-python",
   "name": "python",
   "nbconvert_exporter": "python",
   "pygments_lexer": "ipython3",
   "version": "3.12.0"
  }
 },
 "nbformat": 4,
 "nbformat_minor": 2
}
