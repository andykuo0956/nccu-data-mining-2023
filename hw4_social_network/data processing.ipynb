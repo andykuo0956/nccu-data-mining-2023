{
 "cells": [
  {
   "cell_type": "markdown",
   "id": "ee815f43",
   "metadata": {},
   "source": [
    "# Json 轉 excel (原始資料)"
   ]
  },
  {
   "cell_type": "raw",
   "id": "fc218fe5",
   "metadata": {},
   "source": [
    "output:一篇文章為一筆資料"
   ]
  },
  {
   "cell_type": "code",
   "execution_count": 11,
   "id": "4eb455b7",
   "metadata": {},
   "outputs": [],
   "source": [
    "import pandas as pd\n",
    "import json\n",
    "\n",
    "def extract_top_level_fields(json_data):\n",
    "    \n",
    "    # 假設最上層欄位位於 'articles' 列表中\n",
    "    articles = json_data.get('articles', [])\n",
    "    \n",
    "    # 創建一個列表來保存每篇文章的數據\n",
    "    data = []\n",
    "    \n",
    "    for article in articles:\n",
    "        # 為每篇文章提取所有最上層的欄位\n",
    "        top_level_fields = { key: article.get(key, '') for key in article.keys() }\n",
    "        data.append(top_level_fields)\n",
    "\n",
    "    return data\n",
    "\n",
    "\n",
    "with open('test.json', 'r', encoding='utf-8') as file:\n",
    "    json_data = json.load(file)\n",
    "\n",
    "data = extract_top_level_fields(json_data)\n",
    "df = pd.DataFrame(data)\n",
    "\n",
    "excel_file_path = 'raw_test.xlsx'\n",
    "df.to_excel(excel_file_path, index=False)\n"
   ]
  },
  {
   "cell_type": "markdown",
   "id": "3efe3624",
   "metadata": {},
   "source": [
    "# 將messages中的值全部拆開"
   ]
  },
  {
   "cell_type": "code",
   "execution_count": 12,
   "id": "8a2ce98d",
   "metadata": {},
   "outputs": [],
   "source": [
    "import pandas as pd\n",
    "\n",
    "def extract_complete_data(json_data):\n",
    "    \n",
    "    # Create a list to hold the complete data (article fields + messages)\n",
    "    complete_data = []\n",
    "    \n",
    "    for article in json_data.get('articles', []):\n",
    "        \n",
    "        # Extracting basic article information\n",
    "        article_info = {\n",
    "            'article_id': article.get('article_id', ''),\n",
    "            'article_title': article.get('article_title', ''),\n",
    "            'author': article.get('author', ''),\n",
    "            'content': article.get('content', ''),\n",
    "            'date': article.get('date', ''),\n",
    "            'ip': article.get('ip', '')\n",
    "        }\n",
    "\n",
    "        # Extract messages data\n",
    "        for message in article.get('messages', []):\n",
    "            \n",
    "            # Merging article info with each message\n",
    "            message_data = {**article_info, **message}\n",
    "            complete_data.append(message_data)\n",
    "\n",
    "    return complete_data\n",
    "\n",
    "\n",
    "with open('test.json', 'r', encoding='utf-8') as file:\n",
    "    json_data = json.load(file)\n",
    "\n",
    "data = extract_complete_data(json_data)\n",
    "df = pd.DataFrame(data)\n",
    "\n",
    "excel_file_path = 'messages_test.xlsx'\n",
    "df.to_excel(excel_file_path, index=False)\n"
   ]
  },
  {
   "cell_type": "markdown",
   "id": "5b3e71a1",
   "metadata": {},
   "source": [
    "# 將message_count中的值全部拆開"
   ]
  },
  {
   "cell_type": "code",
   "execution_count": 13,
   "id": "9287b715",
   "metadata": {},
   "outputs": [],
   "source": [
    "import pandas as pd\n",
    "\n",
    "def extract_complete_data_with_message_count(json_data):\n",
    "    # Create a list to hold the complete data (article fields + expanded message_count)\n",
    "    complete_data = []\n",
    "    for article in json_data.get('articles', []):\n",
    "        # Extracting basic article information\n",
    "        article_info = {\n",
    "            'article_id': article.get('article_id', ''),\n",
    "            'article_title': article.get('article_title', ''),\n",
    "            'author': article.get('author', ''),\n",
    "            'content': article.get('content', ''),\n",
    "            'date': article.get('date', ''),\n",
    "            'ip': article.get('ip', '')\n",
    "        }\n",
    "\n",
    "        # Extract and expand message_count data into separate fields\n",
    "        message_count = article.get('message_count', {})\n",
    "        expanded_message_count = {\n",
    "            f'message_count_{key}': message_count.get(key, 0) for key in message_count\n",
    "        }\n",
    "\n",
    "        # Combine article info with expanded message_count\n",
    "        complete_article_data = {**article_info, **expanded_message_count}\n",
    "        complete_data.append(complete_article_data)\n",
    "\n",
    "    return complete_data\n",
    "\n",
    "\n",
    "data = extract_complete_data(json_data)\n",
    "df = pd.DataFrame(data)\n",
    "\n",
    "excel_file_path = 'message_count_test.xlsx'\n",
    "df.to_excel(excel_file_path, index=False)\n"
   ]
  },
  {
   "cell_type": "code",
   "execution_count": null,
   "id": "e8125a80",
   "metadata": {},
   "outputs": [],
   "source": []
  }
 ],
 "metadata": {
  "kernelspec": {
   "display_name": "Python 3 (ipykernel)",
   "language": "python",
   "name": "python3"
  },
  "language_info": {
   "codemirror_mode": {
    "name": "ipython",
    "version": 3
   },
   "file_extension": ".py",
   "mimetype": "text/x-python",
   "name": "python",
   "nbconvert_exporter": "python",
   "pygments_lexer": "ipython3",
   "version": "3.10.9"
  }
 },
 "nbformat": 4,
 "nbformat_minor": 5
}
