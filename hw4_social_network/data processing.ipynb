{
 "cells": [
  {
   "cell_type": "markdown",
   "id": "ee815f43",
   "metadata": {},
   "source": [
    "# Json 轉 excel (原始資料)"
   ]
  },
  {
   "cell_type": "raw",
   "id": "fc218fe5",
   "metadata": {},
   "source": [
    "output:一篇文章為一筆資料"
   ]
  },
  {
   "cell_type": "code",
   "execution_count": 72,
   "id": "d4ebdb2e",
   "metadata": {},
   "outputs": [],
   "source": [
    "import pandas as pd\n",
    "import json\n",
    "\n",
    "def extract_top_level_fields(json_data):\n",
    "    articles = json_data.get('articles', [])\n",
    "    data = []\n",
    "    for article in articles:\n",
    "        try:\n",
    "            top_level_fields = {key: article.get(key, '') for key in article.keys()}\n",
    "            data.append(top_level_fields)\n",
    "        except Exception as e:\n",
    "            print(f\"An error occurred with article: {article.get('article_id', 'Unknown')}, error: {e}\")\n",
    "            # 忽略當前文章，繼續處理下一篇文章\n",
    "            continue\n",
    "    return data\n",
    "\n",
    "# 讀取 JSON 文件\n",
    "with open('data/HatePolitics-4001-4100.json', 'r', encoding='utf-8') as file:\n",
    "    json_data = json.load(file)\n",
    "\n",
    "\n",
    "# 提取數據\n",
    "data = extract_top_level_fields(json_data)\n",
    "df = pd.DataFrame(data)\n",
    "\n",
    "# 儲存為 CSV 文件\n",
    "csv_file_path = 'raw.csv'\n",
    "df.to_csv(csv_file_path,mode='a', index=False)\n"
   ]
  },
  {
   "cell_type": "markdown",
   "id": "3efe3624",
   "metadata": {},
   "source": [
    "# 將messages中的值全部拆開"
   ]
  },
  {
   "cell_type": "code",
   "execution_count": 110,
   "id": "8a2ce98d",
   "metadata": {},
   "outputs": [],
   "source": [
    "import pandas as pd\n",
    "\n",
    "def extract_complete_data(json_data):\n",
    "    \n",
    "    # Create a list to hold the complete data (article fields + messages)\n",
    "    complete_data = []\n",
    "    \n",
    "    for article in json_data.get('articles', []):\n",
    "        \n",
    "        try:\n",
    "            # Extracting basic article information\n",
    "            article_info = {\n",
    "                'article_id': article.get('article_id', ''),\n",
    "                'article_title': article.get('article_title', ''),\n",
    "                'author': article.get('author', ''),\n",
    "                'content': article.get('content', ''),\n",
    "                'date': article.get('date', ''),\n",
    "                'ip': article.get('ip', '')\n",
    "            }\n",
    "\n",
    "            # Extract messages data\n",
    "            for message in article.get('messages', []):\n",
    "\n",
    "                # Merging article info with each message\n",
    "                message_data = {**article_info, **message}\n",
    "                complete_data.append(message_data)\n",
    "                \n",
    "        except Exception as e:\n",
    "            print(f\"An error occurred with article: {article.get('article_id', 'Unknown')}, error: {e}\")\n",
    "            # 忽略當前文章，繼續處理下一篇文章\n",
    "            continue\n",
    "        \n",
    "        \n",
    "\n",
    "    return complete_data\n",
    "\n",
    "\n",
    "with open('data/HatePolitics-4001-4100.json', 'r', encoding='utf-8') as file:\n",
    "    json_data = json.load(file)\n",
    "\n",
    "data = extract_complete_data(json_data)\n",
    "df = pd.DataFrame(data)\n",
    "\n",
    "# 儲存為 CSV 文件\n",
    "csv_file_path = 'message_0108.csv'\n",
    "df.to_csv(csv_file_path,mode='a', index=False)\n"
   ]
  },
  {
   "cell_type": "markdown",
   "id": "5b3e71a1",
   "metadata": {},
   "source": [
    "# 將message_count中的值全部拆開"
   ]
  },
  {
   "cell_type": "code",
   "execution_count": 75,
   "id": "9287b715",
   "metadata": {},
   "outputs": [],
   "source": [
    "import pandas as pd\n",
    "import json  # Import the json module\n",
    "\n",
    "def extract_complete_data_with_message_count(json_data):\n",
    "    complete_data = []\n",
    "    for article in json_data.get('articles', []):\n",
    "        try:\n",
    "            article_info = {\n",
    "                'article_id': article.get('article_id', ''),\n",
    "                'article_title': article.get('article_title', ''),\n",
    "                'author': article.get('author', ''),\n",
    "                'content': article.get('content', ''),\n",
    "                'date': article.get('date', ''),\n",
    "                'ip': article.get('ip', '')\n",
    "            }\n",
    "\n",
    "            message_count = article.get('message_count', {})\n",
    "            expanded_message_count = {\n",
    "                f'message_count_{key}': message_count.get(key, 0) for key in message_count\n",
    "            }\n",
    "\n",
    "            complete_article_data = {**article_info, **expanded_message_count}\n",
    "            complete_data.append(complete_article_data)\n",
    "\n",
    "        except Exception as e:\n",
    "            print(f\"An error occurred with article: {article.get('article_id', 'Unknown')}, error: {e}\")\n",
    "            # Continue to the next article after logging the error\n",
    "            continue\n",
    "\n",
    "    return complete_data\n",
    "\n",
    "# Load JSON data\n",
    "with open('data/HatePolitics-4001-4100.json', 'r', encoding='utf-8') as file:\n",
    "    json_data = json.load(file)\n",
    "\n",
    "# Call the correct function\n",
    "data = extract_complete_data_with_message_count(json_data)\n",
    "df = pd.DataFrame(data)\n",
    "\n",
    "# Save as CSV\n",
    "csv_file_path = 'message_count.csv'\n",
    "df.to_csv(csv_file_path, mode='a', index=False)\n"
   ]
  },
  {
   "cell_type": "markdown",
   "id": "f48780fc",
   "metadata": {},
   "source": [
    "# 以週為單位切割資料 "
   ]
  },
  {
   "cell_type": "code",
   "execution_count": 111,
   "id": "2234b0e8",
   "metadata": {},
   "outputs": [
    {
     "data": {
      "text/plain": [
       "['messages_week_1.csv',\n",
       " 'messages_week_2.csv',\n",
       " 'messages_week_28.csv',\n",
       " 'messages_week_42.csv',\n",
       " 'messages_week_43.csv',\n",
       " 'messages_week_44.csv',\n",
       " 'messages_week_45.csv',\n",
       " 'messages_week_46.csv',\n",
       " 'messages_week_47.csv',\n",
       " 'messages_week_48.csv',\n",
       " 'messages_week_49.csv',\n",
       " 'messages_week_50.csv',\n",
       " 'messages_week_51.csv',\n",
       " 'messages_week_52.csv']"
      ]
     },
     "execution_count": 111,
     "metadata": {},
     "output_type": "execute_result"
    }
   ],
   "source": [
    "import datetime\n",
    "import pandas as pd\n",
    "\n",
    "\n",
    "file_path = 'message_0108.csv'\n",
    "messages_data = pd.read_csv(file_path)\n",
    "\n",
    "\n",
    "# 將日期字段轉換為 datetime 對象\n",
    "messages_data['date'] = pd.to_datetime(messages_data['date'], errors='coerce')\n",
    "\n",
    "# 篩選出日期格式正確的數據\n",
    "messages_data = messages_data[messages_data['date'].notnull()]\n",
    "\n",
    "# 為每條記錄添加所屬周的字段\n",
    "messages_data['week'] = messages_data['date'].dt.isocalendar().week\n",
    "\n",
    "# 按周分組數據並保存為 CSV\n",
    "save_paths = []\n",
    "for week_number, weekly_data in messages_data.groupby('week'):\n",
    "    save_path = f'messages_week_{week_number}.csv'\n",
    "    weekly_data.to_csv(save_path, index=False)\n",
    "    save_paths.append(save_path)\n",
    "\n",
    "save_paths # 顯示保存的文件路徑\n"
   ]
  },
  {
   "cell_type": "code",
   "execution_count": null,
   "id": "d6509860",
   "metadata": {},
   "outputs": [],
   "source": []
  },
  {
   "cell_type": "code",
   "execution_count": null,
   "id": "5fa23004",
   "metadata": {},
   "outputs": [],
   "source": []
  }
 ],
 "metadata": {
  "kernelspec": {
   "display_name": "Python 3 (ipykernel)",
   "language": "python",
   "name": "python3"
  },
  "language_info": {
   "codemirror_mode": {
    "name": "ipython",
    "version": 3
   },
   "file_extension": ".py",
   "mimetype": "text/x-python",
   "name": "python",
   "nbconvert_exporter": "python",
   "pygments_lexer": "ipython3",
   "version": "3.10.9"
  }
 },
 "nbformat": 4,
 "nbformat_minor": 5
}
