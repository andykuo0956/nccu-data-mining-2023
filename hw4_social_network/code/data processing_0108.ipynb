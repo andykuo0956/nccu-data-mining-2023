{
 "cells": [
  {
   "cell_type": "markdown",
   "id": "ee815f43",
   "metadata": {},
   "source": [
    "# Json 轉 excel (原始資料)"
   ]
  },
  {
   "cell_type": "raw",
   "id": "fc218fe5",
   "metadata": {},
   "source": [
    "output:一篇文章為一筆資料"
   ]
  },
  {
   "cell_type": "code",
   "execution_count": 72,
   "id": "d4ebdb2e",
   "metadata": {},
   "outputs": [],
   "source": [
    "import pandas as pd\n",
    "import json\n",
    "\n",
    "def extract_top_level_fields(json_data):\n",
    "    articles = json_data.get('articles', [])\n",
    "    data = []\n",
    "    for article in articles:\n",
    "        try:\n",
    "            top_level_fields = {key: article.get(key, '') for key in article.keys()}\n",
    "            data.append(top_level_fields)\n",
    "        except Exception as e:\n",
    "            print(f\"An error occurred with article: {article.get('article_id', 'Unknown')}, error: {e}\")\n",
    "            # 忽略當前文章，繼續處理下一篇文章\n",
    "            continue\n",
    "    return data\n",
    "\n",
    "# 讀取 JSON 文件\n",
    "with open('data/HatePolitics-4001-4100.json', 'r', encoding='utf-8') as file:\n",
    "    json_data = json.load(file)\n",
    "\n",
    "\n",
    "# 提取數據\n",
    "data = extract_top_level_fields(json_data)\n",
    "df = pd.DataFrame(data)\n",
    "\n",
    "# 儲存為 CSV 文件\n",
    "csv_file_path = 'raw.csv'\n",
    "df.to_csv(csv_file_path,mode='a', index=False)\n"
   ]
  },
  {
   "cell_type": "markdown",
   "id": "3efe3624",
   "metadata": {},
   "source": [
    "# 將messages中的值全部拆開"
   ]
  },
  {
   "cell_type": "code",
   "execution_count": 76,
   "id": "8a2ce98d",
   "metadata": {},
   "outputs": [],
   "source": [
    "import pandas as pd\n",
    "\n",
    "def extract_complete_data(json_data):\n",
    "    \n",
    "    # Create a list to hold the complete data (article fields + messages)\n",
    "    complete_data = []\n",
    "    \n",
    "    for article in json_data.get('articles', []):\n",
    "        \n",
    "        try:\n",
    "            # Extracting basic article information\n",
    "            article_info = {\n",
    "                'article_id': article.get('article_id', ''),\n",
    "                'article_title': article.get('article_title', ''),\n",
    "                'author': article.get('author', ''),\n",
    "                'content': article.get('content', ''),\n",
    "                'date': article.get('date', ''),\n",
    "                'ip': article.get('ip', '')\n",
    "            }\n",
    "\n",
    "            # Extract messages data\n",
    "            for message in article.get('messages', []):\n",
    "\n",
    "                # Merging article info with each message\n",
    "                message_data = {**article_info, **message}\n",
    "                complete_data.append(message_data)\n",
    "                \n",
    "        except Exception as e:\n",
    "            print(f\"An error occurred with article: {article.get('article_id', 'Unknown')}, error: {e}\")\n",
    "            # 忽略當前文章，繼續處理下一篇文章\n",
    "            continue\n",
    "        \n",
    "        \n",
    "\n",
    "    return complete_data\n",
    "\n",
    "\n",
    "with open('data/HatePolitics-801-900.json', 'r', encoding='utf-8') as file:\n",
    "    json_data = json.load(file)\n",
    "\n",
    "data = extract_complete_data(json_data)\n",
    "df = pd.DataFrame(data)\n",
    "\n",
    "# 儲存為 CSV 文件\n",
    "csv_file_path = 'message_2.csv'\n",
    "df.to_csv(csv_file_path,mode='a', index=False)\n"
   ]
  },
  {
   "cell_type": "markdown",
   "id": "5b3e71a1",
   "metadata": {},
   "source": [
    "# 將message_count中的值全部拆開"
   ]
  },
  {
   "cell_type": "code",
   "execution_count": 75,
   "id": "9287b715",
   "metadata": {},
   "outputs": [],
   "source": [
    "import pandas as pd\n",
    "import json  # Import the json module\n",
    "\n",
    "def extract_complete_data_with_message_count(json_data):\n",
    "    complete_data = []\n",
    "    for article in json_data.get('articles', []):\n",
    "        try:\n",
    "            article_info = {\n",
    "                'article_id': article.get('article_id', ''),\n",
    "                'article_title': article.get('article_title', ''),\n",
    "                'author': article.get('author', ''),\n",
    "                'content': article.get('content', ''),\n",
    "                'date': article.get('date', ''),\n",
    "                'ip': article.get('ip', '')\n",
    "            }\n",
    "\n",
    "            message_count = article.get('message_count', {})\n",
    "            expanded_message_count = {\n",
    "                f'message_count_{key}': message_count.get(key, 0) for key in message_count\n",
    "            }\n",
    "\n",
    "            complete_article_data = {**article_info, **expanded_message_count}\n",
    "            complete_data.append(complete_article_data)\n",
    "\n",
    "        except Exception as e:\n",
    "            print(f\"An error occurred with article: {article.get('article_id', 'Unknown')}, error: {e}\")\n",
    "            # Continue to the next article after logging the error\n",
    "            continue\n",
    "\n",
    "    return complete_data\n",
    "\n",
    "# Load JSON data\n",
    "with open('data/HatePolitics-4001-4100.json', 'r', encoding='utf-8') as file:\n",
    "    json_data = json.load(file)\n",
    "\n",
    "# Call the correct function\n",
    "data = extract_complete_data_with_message_count(json_data)\n",
    "df = pd.DataFrame(data)\n",
    "\n",
    "# Save as CSV\n",
    "csv_file_path = 'message_count.csv'\n",
    "df.to_csv(csv_file_path, mode='a', index=False)\n"
   ]
  },
  {
   "cell_type": "code",
   "execution_count": null,
   "id": "e8125a80",
   "metadata": {},
   "outputs": [],
   "source": []
  }
 ],
 "metadata": {
  "kernelspec": {
   "display_name": "Python 3 (ipykernel)",
   "language": "python",
   "name": "python3"
  },
  "language_info": {
   "codemirror_mode": {
    "name": "ipython",
    "version": 3
   },
   "file_extension": ".py",
   "mimetype": "text/x-python",
   "name": "python",
   "nbconvert_exporter": "python",
   "pygments_lexer": "ipython3",
   "version": "3.10.9"
  }
 },
 "nbformat": 4,
 "nbformat_minor": 5
}
