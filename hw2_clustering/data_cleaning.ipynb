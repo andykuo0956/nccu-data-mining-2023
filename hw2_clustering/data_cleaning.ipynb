{
 "cells": [
  {
   "cell_type": "code",
   "execution_count": 1,
   "metadata": {},
   "outputs": [],
   "source": [
    "import pandas as pd\n",
    "import sqlite3"
   ]
  },
  {
   "cell_type": "code",
   "execution_count": 3,
   "metadata": {},
   "outputs": [],
   "source": [
    "# 讀取CSV文件轉換為DataFrame\n",
    "csv_file_path = 'data/OnlineRetail.csv'\n",
    "df = pd.read_csv(csv_file_path)\n",
    "\n",
    "# 創建一個SQLite數據庫連接\n",
    "conn = sqlite3.connect('your_database.db')\n",
    "\n",
    "# 將DataFrame寫入SQLite數據庫的一個表中\n",
    "df.to_sql('raw_data', conn, index=False, if_exists='replace')\n",
    "\n",
    "# 進行SQL查詢\n",
    "# query = 'SELECT * FROM your_table_name WHERE column_name = \"some_value\"'\n",
    "query = 'SELECT InvoiceNo, InvoiceDate, SUM(UnitPrice) AS TTL_price, CustomerID FROM raw_data GROUP BY InvoiceNo'\n",
    "result_df = pd.read_sql(query, conn)"
   ]
  },
  {
   "cell_type": "code",
   "execution_count": 4,
   "metadata": {},
   "outputs": [
    {
     "name": "stdout",
     "output_type": "stream",
     "text": [
      "      InvoiceNo       InvoiceDate  TTL_price  CustomerID\n",
      "0        536365  01-12-2010 08:26      27.37     17850.0\n",
      "1        536366  01-12-2010 08:28       3.70     17850.0\n",
      "2        536367  01-12-2010 08:34      58.24     13047.0\n",
      "3        536368  01-12-2010 08:34      19.10     13047.0\n",
      "4        536369  01-12-2010 08:35       5.95     13047.0\n",
      "...         ...               ...        ...         ...\n",
      "25895   C581484  09-12-2011 09:27       2.08     16446.0\n",
      "25896   C581490  09-12-2011 09:57       2.78     14397.0\n",
      "25897   C581499  09-12-2011 10:28     224.69     15498.0\n",
      "25898   C581568  09-12-2011 11:57      10.95     15311.0\n",
      "25899   C581569  09-12-2011 11:58       2.50     17315.0\n",
      "\n",
      "[25900 rows x 4 columns]\n"
     ]
    }
   ],
   "source": [
    "# 關閉數據庫連接\n",
    "conn.close()\n",
    "\n",
    "# 進一步處理結果DataFrame\n",
    "print(result_df)"
   ]
  },
  {
   "cell_type": "code",
   "execution_count": 5,
   "metadata": {},
   "outputs": [],
   "source": [
    "result_df.to_csv('data/OnlineRetail_invoice.csv', index=False)"
   ]
  }
 ],
 "metadata": {
  "kernelspec": {
   "display_name": "nccu-datamining",
   "language": "python",
   "name": "python3"
  },
  "language_info": {
   "codemirror_mode": {
    "name": "ipython",
    "version": 3
   },
   "file_extension": ".py",
   "mimetype": "text/x-python",
   "name": "python",
   "nbconvert_exporter": "python",
   "pygments_lexer": "ipython3",
   "version": "3.9.7"
  }
 },
 "nbformat": 4,
 "nbformat_minor": 2
}
